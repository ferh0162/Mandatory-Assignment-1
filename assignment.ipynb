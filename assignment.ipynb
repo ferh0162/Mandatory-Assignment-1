{
 "cells": [
  {
   "cell_type": "code",
   "execution_count": 14,
   "metadata": {},
   "outputs": [
    {
     "name": "stdout",
     "output_type": "stream",
     "text": [
      "who in the board of directors is not an employee? \n",
      "{'Mille', 'Hans', 'Benny', 'Troels', 'Søren', 'Torben'}\n",
      "who in the board of directors is also an employee? \n",
      "{'Tine'}\n",
      "how many of the management is also member of the board? \n",
      "{'Tine'}\n",
      "All members of the managent also an employee \n",
      "{'Tine', 'Trunte', 'Rane'}\n",
      "All members of the management also in the board? \n",
      "{'Tine'}\n",
      "Who is an employee, member of the management, and a member of the board? \n",
      "{'Tine'}\n",
      "Who of the employee is neither a memeber of the board or management? \n",
      "{'Ole', 'James', 'Claus', 'Allan', 'Lars', 'Anna', 'Stine', 'Bent', 'Niels'}\n",
      "[('a', 'Alpha'), ('b', 'Beta'), ('g', 'Gamma')]\n",
      "{'æ', 'å', 'ø'}\n"
     ]
    }
   ],
   "source": [
    "Board_of_directors = {\"Benny\", \"Hans\", \"Tine\", \"Mille\", \"Torben\", \"Troels\", \"Søren\"}\n",
    "\n",
    "Management = {\"Tine\", \"Trunte\", \"Rane\"}\n",
    "\n",
    "Employees = {\"Niels\", \"Anna\", \"Tine\", \"Ole\", \"Trunte\", \"Bent\", \"Rane\", \"Allan\", \"Stine\", \"Claus\", \"James\", \"Lars\"}\n",
    "\n",
    "#who in the board of directors is not an employee?\n",
    "a = Board_of_directors-Employees\n",
    "print(f\"who in the board of directors is not an employee? \\n{a}\")\n",
    "\n",
    "#who in the board of directors is also an employee?\n",
    "b = Board_of_directors&Employees\n",
    "print(f\"who in the board of directors is also an employee? \\n{b}\")\n",
    "\n",
    "#how many of the management is also member of the board?\n",
    "c = Management&Board_of_directors\n",
    "print(f\"how many of the management is also member of the board? \\n{c}\")\n",
    "\n",
    "#All members of the managent also an employee\n",
    "d = Management&Employees\n",
    "print(f\"All members of the managent also an employee \\n{d}\")\n",
    "\n",
    "#All members of the management also in the board?\n",
    "e = Management&Board_of_directors\n",
    "print(f\"All members of the management also in the board? \\n{e}\")\n",
    "\n",
    "#Who is an employee, member of the management, and a member of the board?\n",
    "f = Employees&Management&Board_of_directors\n",
    "print(f\"Who is an employee, member of the management, and a member of the board? \\n{f}\")\n",
    "\n",
    "#Who of the employee is neither a memeber of the board or management?\n",
    "g = Employees-Board_of_directors-Management\n",
    "print(f\"Who of the employee is neither a memeber of the board or management? \\n{g}\")\n",
    "\n",
    "\n",
    "# Create a list of tuples from the folowing datastructure\n",
    "data = {'a': 'Alpha', 'b': 'Beta', 'g': 'Gamma'}\n",
    "\n",
    "tuple = list(data.items())\n",
    "\n",
    "print(tuple)\n",
    "\n",
    "\n",
    "\n"
   ]
  },
  {
   "cell_type": "code",
   "execution_count": 24,
   "metadata": {},
   "outputs": [
    {
     "name": "stdout",
     "output_type": "stream",
     "text": [
      "union: \n",
      "{'i', 'æ', 'a', 'å', 'ø', 'e', 'o', 'y', 'u'}\n",
      "union (Operator): \n",
      "{'i', 'æ', 'a', 'å', 'ø', 'e', 'o', 'y', 'u'}\n",
      "symmetric difference: \n",
      "{'æ', 'å', 'ø'}\n",
      "symmetric difference (Operator): \n",
      "{'æ', 'å', 'ø'}\n",
      "difference: \n",
      "set()\n",
      "difference (Operator): \n",
      "set()\n",
      "disjoint: \n",
      "{'i', 'a', 'e', 'u', 'y', 'o'}\n",
      "disjoint (Operator): \n",
      "{'i', 'a', 'e', 'u', 'y', 'o'}\n"
     ]
    }
   ],
   "source": [
    "#Sets\n",
    "S1 = {'a', 'e', 'i', 'o', 'u', 'y'}\n",
    "S2 = {'a', 'e', 'i', 'o', 'u', 'y', 'æ' ,'ø', 'å'}\n",
    "\n",
    "#Union\n",
    "union = S1.union(S2)\n",
    "print(f\"union: \\n{union}\")\n",
    "\n",
    "union_operator = S1 | S2\n",
    "print(f\"union (Operator): \\n{union_operator}\")\n",
    "\n",
    "#Symmetric difference\n",
    "symmetric_difference = S1.symmetric_difference(S2)\n",
    "print(f\"symmetric difference: \\n{symmetric_difference}\")\n",
    "\n",
    "symmetric_difference_operator = S1 ^ S2\n",
    "print(f\"symmetric difference (Operator): \\n{symmetric_difference_operator}\")\n",
    "\n",
    "#Difference\n",
    "difference = S1.difference(S2)\n",
    "print(f\"difference: \\n{difference}\")\n",
    "\n",
    "difference_operator = S1 - S2\n",
    "print(f\"difference (Operator): \\n{difference_operator}\")\n",
    "\n",
    "#Disjoint\n",
    "disjoint = S1.intersection(S2)\n",
    "print(f\"disjoint: \\n{disjoint}\")\n",
    "\n",
    "disjointsetOperator = S1 & S2\n",
    "print(f\"disjoint (Operator): \\n{disjointsetOperator}\")\n"
   ]
  },
  {
   "cell_type": "code",
   "execution_count": 25,
   "metadata": {},
   "outputs": [
    {
     "name": "stdout",
     "output_type": "stream",
     "text": [
      "(1985, 3, 8)\n"
     ]
    }
   ],
   "source": [
    "months = {\n",
    "    'JAN': 1, 'FEB': 2, 'MAR': 3, 'APR': 4, 'MAY': 5, 'JUN': 6,\n",
    "    'JUL': 7, 'AUG': 8, 'SEP': 9, 'OCT': 10, 'NOV': 11, 'DEC': 12\n",
    "}\n",
    "\n",
    "def decoder(date):\n",
    "    # Split datoen\n",
    "    day, month, year = date.split('-')\n",
    "    \n",
    "    # Translate måneder til tal\n",
    "    month = months[month]\n",
    "    \n",
    "    # Oversæt år til tal\n",
    "    year = int(year)\n",
    "    \n",
    "    if 0 <= year <= 23:  # Fra år 2000 til 2023 bliver til 20 århundrede\n",
    "        year += 2000\n",
    "    else:\n",
    "        year += 1900  # Fra 34 til 99 bliver til 19 århundrede\n",
    "\n",
    "    return (year, month, int(day))\n",
    "\n",
    "date = \"8-MAR-85\"\n",
    "print(decoder(date))  # Expected Output: (1985, 3, 8)\n"
   ]
  },
  {
   "cell_type": "code",
   "execution_count": 29,
   "metadata": {},
   "outputs": [
    {
     "name": "stdout",
     "output_type": "stream",
     "text": [
      "Friends who haven't RSVP'd:\n",
      "{'Birgitte', 'Anders', 'Ditte'}\n",
      "\n",
      "Friends who RSVP'd but weren't invited:\n",
      "{'Frederik', 'Grethe'}\n",
      "\n",
      "Friends who were both invited and RSVP'd:\n",
      "{'Carsten', 'Erik'}\n"
     ]
    }
   ],
   "source": [
    "friends = {\"Anders\", \"Birgitte\", \"Carsten\", \"Ditte\", \"Erik\"}\n",
    "rsvp = {\"Carsten\", \"Erik\", \"Frederik\", \"Grethe\"}\n",
    "\n",
    "def party_stats(invited, rsvp):\n",
    "    # Friends who haven't RSVP'd\n",
    "    notRsvp = invited - rsvp\n",
    "    print(f\"Friends who haven't RSVP'd:\\n{notRsvp}\")\n",
    "    \n",
    "    # Friends who RSVP'd but weren't invited\n",
    "    uninvitedRsvp = rsvp - invited\n",
    "    print(f\"\\nFriends who RSVP'd but weren't invited:\\n{uninvitedRsvp}\")\n",
    "    \n",
    "    # Friends who were both invited and RSVP'd\n",
    "    invitedAndRsvp = invited & rsvp\n",
    "    print(f\"\\nFriends who were both invited and RSVP'd:\\n{invitedAndRsvp}\")\n",
    "    \n",
    "\n",
    "party_stats(friends, rsvp)\n",
    "\n",
    "\n"
   ]
  },
  {
   "cell_type": "code",
   "execution_count": 37,
   "metadata": {},
   "outputs": [
    {
     "name": "stdout",
     "output_type": "stream",
     "text": [
      "Students with a grade of 85 or higher:\n",
      "Anders\n",
      "Birgitte\n",
      "Carsten\n",
      "Erik\n",
      "Ida\n"
     ]
    }
   ],
   "source": [
    "students_grades = {\n",
    "    \"Anders\": 87,\n",
    "    \"Birgitte\": 92,\n",
    "    \"Carsten\": 78,\n",
    "    \"Ditte\": 65,\n",
    "    \"Erik\": 95,\n",
    "    \"Freja\": 84,\n",
    "    \"Grethe\": 71,\n",
    "    \"Henrik\": 58,\n",
    "    \"Ida\": 89,\n",
    "    \"Jesper\": 73\n",
    "}\n",
    "\n",
    "#Opdatere en karakter\n",
    "students_grades[\"Carsten\"] = 85\n",
    "\n",
    "print(\"Students with a grade of 85 or higher:\")\n",
    "for student, grade in students_grades.items():\n",
    "    if grade >= 85:\n",
    "        print(student)\n"
   ]
  }
 ],
 "metadata": {
  "kernelspec": {
   "display_name": "Python 3",
   "language": "python",
   "name": "python3"
  },
  "language_info": {
   "codemirror_mode": {
    "name": "ipython",
    "version": 3
   },
   "file_extension": ".py",
   "mimetype": "text/x-python",
   "name": "python",
   "nbconvert_exporter": "python",
   "pygments_lexer": "ipython3",
   "version": "3.11.4"
  },
  "orig_nbformat": 4
 },
 "nbformat": 4,
 "nbformat_minor": 2
}
